version https://git-lfs.github.com/spec/v1
oid sha256:a24841f69eb21176adef16aadd44e6d68691ee2c984fd4570016bad45cb540be
size 24010075
