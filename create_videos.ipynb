version https://git-lfs.github.com/spec/v1
oid sha256:b3ccf645be07474cfb9c1df5198a94ad442a5d3aacbd65ded9f0a27bc5943da1
size 414612
